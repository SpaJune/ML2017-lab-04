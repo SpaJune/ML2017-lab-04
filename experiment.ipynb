{
 "cells": [
  {
   "cell_type": "code",
   "execution_count": 107,
   "metadata": {
    "collapsed": true
   },
   "outputs": [],
   "source": [
    "import numpy as np\n",
    "import matplotlib.pyplot as plt\n",
    "import sklearn\n",
    "import random\n",
    "import types"
   ]
  },
  {
   "cell_type": "code",
   "execution_count": 108,
   "metadata": {
    "collapsed": true
   },
   "outputs": [],
   "source": [
    "train_dir=\"./ml-100k/u1.base\"\n",
    "test_dir=\"./ml-100k/u1.test\""
   ]
  },
  {
   "cell_type": "code",
   "execution_count": 109,
   "metadata": {
    "collapsed": true
   },
   "outputs": [],
   "source": [
    "#读取数据\n",
    "def readData(dir):\n",
    "    data=[]\n",
    "    with open(dir,\"r\") as file:\n",
    "        for line in file:\n",
    "            x=line\n",
    "            tuple=[int(x.split()[0]),int(x.split()[1]),int(x.split()[2])]\n",
    "            data.append(tuple)            \n",
    "        return data\n",
    "    \n",
    "#用于把数据转换为数据,没有评分的设置为0\n",
    "def getMatrix(data,user_num,item_num):\n",
    "    R=np.zeros((user_num,item_num))\n",
    "    for tuple in data:\n",
    "        R[tuple[0]-1][tuple[1]-1]=tuple[2]\n",
    "    return R\n",
    "        "
   ]
  },
  {
   "cell_type": "code",
   "execution_count": 110,
   "metadata": {
    "collapsed": true
   },
   "outputs": [],
   "source": [
    "train_data=readData(train_dir)\n",
    "test_data=readData(test_dir)"
   ]
  },
  {
   "cell_type": "code",
   "execution_count": 111,
   "metadata": {
    "collapsed": true
   },
   "outputs": [],
   "source": [
    "usr_num=np.max(train_data,0)[0]\n",
    "item_num=np.max(train_data,0)[1]\n",
    "R=getMatrix(train_data,usr_num,item_num)\n",
    "R_test=getMatrix(test_data,usr_num,item_num) "
   ]
  },
  {
   "cell_type": "code",
   "execution_count": 144,
   "metadata": {
    "collapsed": true
   },
   "outputs": [],
   "source": [
    "def loss(R,P,Q):   \n",
    "    usr_num=R.shape[0]\n",
    "    item_num=R.shape[1]\n",
    "    e=0\n",
    "    x=(R>0)  #大于0的代表初始矩阵已经存在的评分\n",
    "    loss=np.multiply(np.square(R-np.dot(P,Q)),x) #筛选出有评分的 \n",
    "    loss=np.sum(loss) #计算loss总和\n",
    "    total=np.sum(x)  #把有评分的部分加起来\n",
    "    return loss/total\n",
    "\n",
    "\n",
    "#lamda：正则项\n",
    "def matrix_factorization(R,K,step,lamda,validation_data):\n",
    "    usr_num=R.shape[0]\n",
    "    item_num=R.shape[1]\n",
    "    P=np.random.rand(usr_num,K)\n",
    "    Q=np.random.rand(K,item_num)\n",
    "    last_loss=loss(validation_data,P,Q)\n",
    "    validation_loss=[last_loss]\n",
    "    for s in range(step):\n",
    "        '''\n",
    "        for i in range(usr_num):\n",
    "            tmp=Q                 #对P的每一行令偏导为0，求出闭式解\n",
    "            inv=np.linalg.inv(np.dot(tmp,np.transpose(tmp))+lamda*np.eye(K))\n",
    "            mul=np.dot(R[i,:],np.transpose(Q))\n",
    "            P[i,:]=np.dot(mul,inv)\n",
    "        for j in range(item_num):\n",
    "            tmp=P              #对Q的每一列令偏导为0，求出闭式解\n",
    "            inv=np.linalg.inv(np.dot(np.transpose(tmp),tmp)+lamda*np.eye(K))\n",
    "            mul=np.dot(inv,np.transpose(tmp))\n",
    "            Q[:,j]=np.dot(mul,R[:,j])      \n",
    "            '''\n",
    "        #print(s)\n",
    "        for u in range(usr_num):\n",
    "            sum1=0\n",
    "            sum2=0\n",
    "            for i in range(item_num):\n",
    "                if(R[u,i]!=0):  #求闭式解，闭式解分为两部分求和，最后两个做矩阵乘法\n",
    "                    tmp=Q[:,i].reshape((K,1))\n",
    "                    sum1+=R[u,i]*np.transpose(tmp)                   \n",
    "                    sum2+=np.dot(tmp,np.transpose(tmp))\n",
    "            if(type(sum1) is type(0)): #如果sum1==0，证明这一列没有评分，则过滤掉\n",
    "                continue\n",
    "            sum2+=lamda*np.eye(K)\n",
    "            P[u,:]=np.dot(sum1,np.linalg.inv(sum2)).reshape((K))\n",
    "            \n",
    "        for i in range(item_num):\n",
    "            sum1=0\n",
    "            sum2=0\n",
    "            for u in range(usr_num):\n",
    "                if(R[u,i]!=0):  #求闭式解\n",
    "                    tmp=P[u,:].reshape((1,K))\n",
    "                    sum1+=R[u,i]*np.transpose(tmp)\n",
    "                    sum2+=np.dot(np.transpose(tmp),tmp)\n",
    "            if(type(sum1) is type(0)): #如果sum1==0\n",
    "                continue\n",
    "            sum2+=lamda*np.eye(K)\n",
    "            \n",
    "            Q[:,i]=np.dot(np.linalg.inv(sum2),sum1).reshape((K))\n",
    "            \n",
    "        #loss不带正则项，如果要看带正则项的，可以加上注释那段\n",
    "        loss_val=loss(validation_data,P,Q) #np.sum(np.square(Q))*lamda/2+np.sum(np.square(P))*lamda/2\n",
    "        if(abs(loss_val-last_loss)<0.00001):\n",
    "            return P,Q,validation_loss\n",
    "        last_loss=loss_val\n",
    "        validation_loss.append(loss_val)\n",
    "        \n",
    "        #print(loss_val)\n",
    "    return P,Q,validation_loss\n",
    "\n",
    "\n",
    "\n",
    "\n",
    "            \n",
    "        "
   ]
  },
  {
   "cell_type": "code",
   "execution_count": 146,
   "metadata": {
    "scrolled": true
   },
   "outputs": [],
   "source": [
    "#以下的R是测试算法准确性时候用的\n",
    "'''\n",
    "R = [\n",
    "     [5,9,0,1],\n",
    "     [4,0,0,1],\n",
    "     [7,1,0,5],\n",
    "     [1,0,3,4],\n",
    "     [0,1,5,4],\n",
    "    ]\n",
    "R=np.array(R)\n",
    "R_test=R\n",
    "'''\n",
    "K=2\n",
    "lamda=0.02\n",
    "step=20\n",
    "\n",
    "P,Q,validation_loss=matrix_factorization(R,K,step,lamda,R_test)"
   ]
  },
  {
   "cell_type": "code",
   "execution_count": 167,
   "metadata": {},
   "outputs": [],
   "source": [
    "def matrix_factorization_stochastic(R,alpha,K,step,lamda,validation_data):\n",
    "    usr_num=R.shape[0]\n",
    "    item_num=R.shape[1]\n",
    "    P=np.random.rand(usr_num,K)  #初始化\n",
    "    Q=np.random.rand(K,item_num) #初始化\n",
    "    last_loss=loss(validation_data,P,Q)\n",
    "    validation_loss=[last_loss]\n",
    "    record_size=len(train_data)\n",
    "    for i in range(step):\n",
    "        sample_index=random.randint(0,record_size-1)\n",
    "        user=train_data[sample_index][0]-1\n",
    "        item=train_data[sample_index][1]-1\n",
    "        sample=train_data[sample_index][2]\n",
    "        \n",
    "        e=R[user,item]-np.dot(P[user,:],Q[:,item])\n",
    "         \n",
    "        P[user,:]=P[user,:]+2*alpha*e*np.transpose(Q[:,item])-alpha*lamda*P[user,:]\n",
    "        Q[:,item]=Q[:,item]+2*alpha*e*np.transpose(P[user,:])-alpha*lamda*Q[:,item]\n",
    "        '''\n",
    "        for k in range(K):                  #正常做法       \n",
    "            P[user,k]=P[user,k]+2*alpha*e*Q[k,item]-alpha*lamda*P[user,k]  \n",
    "            Q[k,item]=Q[k,item]+2*alpha*e*P[user,k]-alpha*lamda*Q[k,item]\n",
    "        '''\n",
    "        \n",
    "        loss_val=loss(validation_data,P,Q)#np.sum(np.square(Q))*lamda/2+np.sum(np.square(P))*lamda/2\n",
    "        validation_loss.append(loss_val)\n",
    "        #if(abs(loss_val-last_loss)<0.00001):\n",
    "           #return P,Q,validation_loss\n",
    "        last_loss=loss_val\n",
    "        #print(loss_val)\n",
    "    return P,Q,validation_loss"
   ]
  },
  {
   "cell_type": "code",
   "execution_count": 195,
   "metadata": {},
   "outputs": [],
   "source": [
    "'''\n",
    "R = [\n",
    "     [5,3,0,1],\n",
    "     [4,0,0,1],\n",
    "     [1,1,0,5],\n",
    "     [1,0,0,4],\n",
    "     [0,1,5,4],\n",
    "    ]\n",
    "R=np.array(R)\n",
    "R_test=R\n",
    "'''\n",
    "alpha=0.05\n",
    "K=2\n",
    "lamda=0.01\n",
    "step=6000\n",
    "\n",
    "P_g,Q_g,validation_loss_g=matrix_factorization_stochastic(R,alpha,K,step,lamda,R_test)"
   ]
  },
  {
   "cell_type": "code",
   "execution_count": 196,
   "metadata": {
    "scrolled": true
   },
   "outputs": [
    {
     "data": {
      "image/png": "[encoded data removed]",
      "text/plain": [
       "<matplotlib.figure.Figure at 0x19eab42c3c8>"
      ]
     },
     "metadata": {},
     "output_type": "display_data"
    }
   ],
   "source": [
    "#梯度下降所画的图\n",
    "plt.figure()\n",
    "iter=range(len(validation_loss_g))\n",
    "plt.plot(iter,validation_loss_g)\n",
    "plt.xlabel('epoch')\n",
    "plt.ylabel('loss')\n",
    "plt.show()"
   ]
  },
  {
   "cell_type": "code",
   "execution_count": 172,
   "metadata": {},
   "outputs": [
    {
     "name": "stdout",
     "output_type": "stream",
     "text": [
      "[[ 2.4880292   1.60445927  1.51652102 ...,  1.08689537  0.68686628\n",
      "   1.29964847]\n",
      " [ 2.00643312  1.24855951  1.26574394 ...,  0.97676967  0.58298353\n",
      "   1.01582575]\n",
      " [ 0.82264213  0.49036047  0.53929095 ...,  0.44814305  0.25284534\n",
      "   0.4011558 ]\n",
      " ..., \n",
      " [ 1.0610092   0.72281813  0.61029322 ...,  0.37812384  0.26815539\n",
      "   0.58169755]\n",
      " [ 2.06866832  1.35707368  1.23916423 ...,  0.85272245  0.5563135\n",
      "   1.09699079]\n",
      " [ 1.6053551   0.9878959   1.02318164 ...,  0.80602591  0.47355382\n",
      "   0.8048812 ]]\n",
      "[[ 5.  3.  4. ...,  0.  0.  0.]\n",
      " [ 4.  0.  0. ...,  0.  0.  0.]\n",
      " [ 0.  0.  0. ...,  0.  0.  0.]\n",
      " ..., \n",
      " [ 5.  0.  0. ...,  0.  0.  0.]\n",
      " [ 0.  0.  0. ...,  0.  0.  0.]\n",
      " [ 0.  5.  0. ...,  0.  0.  0.]]\n"
     ]
    }
   ],
   "source": [
    "#梯度下降方法所求出来的P和Q\n",
    "print(np.dot(P_g,Q_g))\n",
    "print(R)"
   ]
  },
  {
   "cell_type": "code",
   "execution_count": 147,
   "metadata": {},
   "outputs": [
    {
     "data": {
      "image/png": "[encoded data removed]",
      "text/plain": [
       "<matplotlib.figure.Figure at 0x19eacfe4c88>"
      ]
     },
     "metadata": {},
     "output_type": "display_data"
    },
    {
     "name": "stdout",
     "output_type": "stream",
     "text": [
      "[[ 3.87180703  3.00039307  3.00816366 ...,  2.14636237  3.57528487\n",
      "   3.23981588]\n",
      " [ 4.01355499  3.1897772   3.12378823 ...,  2.1817289   3.64230807\n",
      "   3.2678651 ]\n",
      " [ 3.32226228  2.51263539  2.57692402 ...,  1.87534635  3.11752971\n",
      "   2.85044745]\n",
      " ..., \n",
      " [ 4.28957355  3.45004825  3.34144199 ...,  2.30954674  3.85994907\n",
      "   3.4460278 ]\n",
      " [ 4.54584208  3.96706323  3.56254528 ...,  2.27861549  3.84089986\n",
      "   3.29791492]\n",
      " [ 3.88658811  3.12393481  3.02739109 ...,  2.09366079  3.49892881\n",
      "   3.12456384]]\n",
      "[[ 5.  3.  4. ...,  0.  0.  0.]\n",
      " [ 4.  0.  0. ...,  0.  0.  0.]\n",
      " [ 0.  0.  0. ...,  0.  0.  0.]\n",
      " ..., \n",
      " [ 5.  0.  0. ...,  0.  0.  0.]\n",
      " [ 0.  0.  0. ...,  0.  0.  0.]\n",
      " [ 0.  5.  0. ...,  0.  0.  0.]]\n"
     ]
    }
   ],
   "source": [
    "#als算法运算之后所得到的loss图和PQ的积\n",
    "plt.figure()\n",
    "iter=range(len(validation_loss))\n",
    "plt.plot(iter,validation_loss)\n",
    "plt.xlabel('epoch')\n",
    "plt.ylabel('loss')\n",
    "plt.show()\n",
    "print(np.dot(P,Q))\n",
    "print(R)\n",
    "#error(R,P,Q)"
   ]
  },
  {
   "cell_type": "code",
   "execution_count": null,
   "metadata": {
    "collapsed": true
   },
   "outputs": [],
   "source": []
  }
 ],
 "metadata": {
  "kernelspec": {
   "display_name": "Python 3",
   "language": "python",
   "name": "python3"
  },
  "language_info": {
   "codemirror_mode": {
    "name": "ipython",
    "version": 3
   },
   "file_extension": ".py",
   "mimetype": "text/x-python",
   "name": "python",
   "nbconvert_exporter": "python",
   "pygments_lexer": "ipython3",
   "version": "3.6.3"
  }
 },
 "nbformat": 4,
 "nbformat_minor": 2
}
