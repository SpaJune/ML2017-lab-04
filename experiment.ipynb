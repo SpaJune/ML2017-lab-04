{
 "cells": [
  {
   "cell_type": "code",
   "execution_count": 1,
   "metadata": {
    "collapsed": true
   },
   "outputs": [],
   "source": [
    "import numpy as np\n",
    "import matplotlib.pyplot as plt\n",
    "import sklearn\n",
    "import random"
   ]
  },
  {
   "cell_type": "code",
   "execution_count": 2,
   "metadata": {
    "collapsed": true
   },
   "outputs": [],
   "source": [
    "train_dir=\"./ml-100k/u1.base\"\n",
    "test_dir=\"./ml-100k/u1.test\""
   ]
  },
  {
   "cell_type": "code",
   "execution_count": 3,
   "metadata": {
    "collapsed": true
   },
   "outputs": [],
   "source": [
    "def readData(dir):\n",
    "    data=[]\n",
    "    with open(dir,\"r\") as file:\n",
    "        for line in file:\n",
    "            x=line\n",
    "            tuple=[int(x.split()[0]),int(x.split()[1]),int(x.split()[2])]\n",
    "            data.append(tuple)            \n",
    "        return data\n",
    "    \n",
    "\n",
    "def getMatrix(data,user_num,item_num):\n",
    "    R=np.zeros((user_num,item_num))\n",
    "    for tuple in data:\n",
    "        R[tuple[0]-1][tuple[1]-1]=tuple[2]\n",
    "    return R\n",
    "        "
   ]
  },
  {
   "cell_type": "code",
   "execution_count": 4,
   "metadata": {
    "collapsed": true
   },
   "outputs": [],
   "source": [
    "train_data=readData(train_dir)\n",
    "test_data=readData(test_dir)"
   ]
  },
  {
   "cell_type": "code",
   "execution_count": 5,
   "metadata": {
    "collapsed": true
   },
   "outputs": [],
   "source": [
    "usr_num=np.max(train_data,0)[0]\n",
    "item_num=np.max(train_data,0)[1]\n",
    "R=getMatrix(train_data,usr_num,item_num)\n",
    "R_test=getMatrix(test_data,usr_num,item_num)"
   ]
  },
  {
   "cell_type": "code",
   "execution_count": 8,
   "metadata": {},
   "outputs": [],
   "source": [
    "def loss(R,P,Q):   \n",
    "    usr_num=R.shape[0]\n",
    "    item_num=R.shape[1]\n",
    "    e=0\n",
    "    x=(R>0)  #大于0的代表初始矩阵已经存在的评分\n",
    "    loss=np.multiply(np.square(R-np.dot(P,Q)),x) \n",
    "    loss=np.sum(loss)\n",
    "    total=np.sum(x)\n",
    "    return loss\n",
    "\n",
    "\n",
    "#lamda：正则项\n",
    "def matrix_factorization(R,K,step,lamda,validation_data):\n",
    "    usr_num=R.shape[0]\n",
    "    item_num=R.shape[1]\n",
    "    P=np.random.rand(usr_num,K)\n",
    "    Q=np.random.rand(K,item_num)\n",
    "    validation_loss=[]\n",
    "    last_loss=0\n",
    "    for s in range(step):\n",
    "        for i in range(usr_num):\n",
    "            tmp=Q                 #对P的每一行令偏导为0，求出闭式解\n",
    "            inv=np.linalg.inv(np.dot(tmp,np.transpose(tmp))+lamda*np.eye(K))\n",
    "            mul=np.dot(np.transpose(tmp),inv)\n",
    "            P[i,:]=np.dot(R[i,:],mul)\n",
    "        for j in range(item_num):\n",
    "            tmp=P              #对Q的每一列令偏导为0，求出闭式解\n",
    "            inv=np.linalg.inv(np.dot(np.transpose(tmp),tmp)+lamda*np.eye(K))\n",
    "            mul=np.dot(inv,np.transpose(tmp))\n",
    "            Q[:,j]=np.dot(mul,R[:,j])      \n",
    "        #loss不带正则项，如果要看带正则项的，可以加上注释那段\n",
    "        loss_val=loss(validation_data,P,Q) #np.sum(np.square(Q))*lamda/2+np.sum(np.square(P))*lamda/2\n",
    "        if(abs(loss_val-last_loss)<0.0000001):\n",
    "            return P,Q,validation_loss\n",
    "        last_loss=loss_val\n",
    "        validation_loss.append(loss_val)\n",
    "        #print(loss_val)\n",
    "    return P,Q,validation_loss\n",
    "\n",
    "\n",
    "\n",
    "\n",
    "            \n",
    "        "
   ]
  },
  {
   "cell_type": "code",
   "execution_count": 9,
   "metadata": {
    "scrolled": true
   },
   "outputs": [
    {
     "data": {
      "image/png": "[encoded data removed]",
      "text/plain": [
       "<matplotlib.figure.Figure at 0x214b9580fd0>"
      ]
     },
     "metadata": {},
     "output_type": "display_data"
    }
   ],
   "source": [
    "#以下的R是测试用的\n",
    "'''\n",
    "R = [\n",
    "     [5,3,0,1],\n",
    "     [4,0,0,1],\n",
    "     [1,1,0,5],\n",
    "     [1,0,0,4],\n",
    "     [0,1,5,4],\n",
    "    ]\n",
    "R=np.array(R)\n",
    "R_test=R\n",
    "'''\n",
    "\n",
    "\n",
    "\n",
    "K=10\n",
    "lamda=0.001\n",
    "step=100\n",
    "\n",
    "P,Q,validation_loss=matrix_factorization(R,K,step,lamda,R_test)\n",
    "\n",
    "plt.figure()\n",
    "iter=range(len(validation_loss))\n",
    "plt.plot(iter,validation_loss)\n",
    "plt.show()\n",
    "#print(np.dot(P,Q))\n",
    "#error(R,P,Q)\n"
   ]
  },
  {
   "cell_type": "code",
   "execution_count": 12,
   "metadata": {
    "collapsed": true
   },
   "outputs": [],
   "source": [
    "def matrix_factorization_stochastic(R,alpha,K,step,lamda,validation_data):\n",
    "    usr_num=R.shape[0]\n",
    "    item_num=R.shape[1]\n",
    "    P=np.random.rand(usr_num,K)  #初始化\n",
    "    Q=np.random.rand(K,item_num) #初始化\n",
    "    validation_loss=[]\n",
    "    last_loss=0\n",
    "    for i in range(step):\n",
    "        sample=0\n",
    "        user=0\n",
    "        item=0\n",
    "        while(sample==0):   #找到一个不等于0的\n",
    "            user=random.randint(0,usr_num-1)\n",
    "            item=random.randint(0,item_num-1)\n",
    "            sample=R[user,item]\n",
    "        e=R[user,item]-np.dot(P[user,:],Q[:,item])\n",
    "        P[user,:]=P[user,:]+2*alpha*e*np.transpose(Q[:,item])-alpha*lamda*P[user,:]\n",
    "        Q[:,item]=Q[:,item]+2*alpha*e*np.transpose(P[user,:])-alpha*lamda*Q[:,item]\n",
    "        '''\n",
    "        for k in range(K):                  #正常做法       \n",
    "            P[i,k]=P[i,k]+2*alpha*e*Q[k,j]-alpha*lamda*P[i,k]  \n",
    "            Q[k,j]=Q[k,j]+2*alpha*e*P[i,k]-alpha*lamda*Q[k,j]\n",
    "         ''' \n",
    "        loss_val=loss(validation_data,P,Q)+np.sum(np.square(Q))*lamda/2+np.sum(np.square(P))*lamda/2\n",
    "        validation_loss.append(loss_val)\n",
    "        if(abs(loss_val-last_loss)<0.00001):\n",
    "            return P,Q,validation_loss\n",
    "        last_loss=loss_val\n",
    "        #print(loss_val)\n",
    "    return P,Q,validation_loss"
   ]
  },
  {
   "cell_type": "code",
   "execution_count": 13,
   "metadata": {},
   "outputs": [
    {
     "name": "stdout",
     "output_type": "stream",
     "text": [
      "[[ 4.46447566  2.36508394  1.83873973 ...,  1.28720872  1.39431135\n",
      "   2.33993851]\n",
      " [ 2.45213469  1.41473787  0.97717617 ...,  0.42130212  0.41844925\n",
      "   1.1472358 ]\n",
      " [ 1.26304529  0.66920224  0.52017085 ...,  0.36392708  0.39417628\n",
      "   0.66187766]\n",
      " ..., \n",
      " [ 1.96374168  0.96882064  0.82902691 ...,  0.74270286  0.8279195\n",
      "   1.11449427]\n",
      " [ 3.73825518  1.99369377  1.53586427 ...,  1.04490861  1.12748346\n",
      "   1.94341226]\n",
      " [ 4.31393508  2.24113756  1.78925187 ...,  1.35293722  1.47998866\n",
      "   2.31374461]]\n"
     ]
    }
   ],
   "source": [
    "'''\n",
    "R = [\n",
    "     [5,3,0,1],\n",
    "     [4,0,0,1],\n",
    "     [1,1,0,5],\n",
    "     [1,0,0,4],\n",
    "     [0,1,5,4],\n",
    "    ]\n",
    "R=np.array(R)\n",
    "R_test=R\n",
    "'''\n",
    "alpha=0.01\n",
    "K=2\n",
    "lamda=0.02\n",
    "step=10000\n",
    "\n",
    "P,Q,validation_loss=matrix_factorization_stochastic(R,alpha,K,step,lamda,R_test)\n",
    "#print(np.dot(P,Q))"
   ]
  },
  {
   "cell_type": "code",
   "execution_count": 170,
   "metadata": {},
   "outputs": [
    {
     "data": {
      "image/png": "[encoded data removed]",
      "text/plain": [
       "<matplotlib.figure.Figure at 0x18a19915b70>"
      ]
     },
     "metadata": {},
     "output_type": "display_data"
    }
   ],
   "source": [
    "plt.figure()\n",
    "iter=range(len(validation_loss))\n",
    "plt.plot(iter,validation_loss)\n",
    "plt.show()"
   ]
  },
  {
   "cell_type": "code",
   "execution_count": null,
   "metadata": {
    "collapsed": true
   },
   "outputs": [],
   "source": []
  }
 ],
 "metadata": {
  "kernelspec": {
   "display_name": "Python 3",
   "language": "python",
   "name": "python3"
  },
  "language_info": {
   "codemirror_mode": {
    "name": "ipython",
    "version": 3
   },
   "file_extension": ".py",
   "mimetype": "text/x-python",
   "name": "python",
   "nbconvert_exporter": "python",
   "pygments_lexer": "ipython3",
   "version": "3.6.3"
  }
 },
 "nbformat": 4,
 "nbformat_minor": 2
}
